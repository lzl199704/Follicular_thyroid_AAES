{
 "cells": [
  {
   "cell_type": "code",
   "execution_count": 1,
   "metadata": {},
   "outputs": [],
   "source": [
    "import os  # needed navigate the system to get the input data\n",
    "import glob\n",
    "import cv2\n",
    "import numpy as np\n",
    "import radiomics\n",
    "from SimpleITK import GetImageFromArray\n",
    "from radiomics.featureextractor import RadiomicsFeatureExtractor # This module is used for interaction with pyradiomic\n",
    "import logging\n",
    "import pandas as pd\n",
    "logging.getLogger('radiomics').setLevel(logging.CRITICAL + 1)  # this tool makes a whole TON of \n",
    "import SimpleITK"
   ]
  },
  {
   "cell_type": "code",
   "execution_count": 2,
   "metadata": {},
   "outputs": [],
   "source": [
    "thyroid_mask = sorted(glob.glob(\"mask/*\"))"
   ]
  },
  {
   "cell_type": "code",
   "execution_count": 3,
   "metadata": {},
   "outputs": [],
   "source": [
    "thyroid_img = sorted(glob.glob(\"img/*/*\"))"
   ]
  },
  {
   "cell_type": "code",
   "execution_count": 4,
   "metadata": {},
   "outputs": [],
   "source": [
    "df=pd.DataFrame()\n",
    "df['mask'] = thyroid_mask\n",
    "df['image'] = thyroid_img\n",
    "df['ids'] = df['image'].str.split('/').str[-2]\n",
    "ids_list= df['ids'].tolist()"
   ]
  },
  {
   "cell_type": "code",
   "execution_count": 7,
   "metadata": {},
   "outputs": [],
   "source": [
    "params = os.path.abspath(\"tumor.yaml\")"
   ]
  },
  {
   "cell_type": "code",
   "execution_count": 16,
   "metadata": {},
   "outputs": [],
   "source": [
    "###retrieve radiomics features per image\n",
    "radiomics_all=pd.DataFrame()\n",
    "image_list=[]\n",
    "for j in ids_list:\n",
    "    texture_extractor = RadiomicsFeatureExtractor(params)\n",
    "\n",
    "    temp_data = df[df['ids']==j]\n",
    "    temp_data = temp_data.reset_index(drop=True)\n",
    "    sample_img=[]\n",
    "    sample_mask=[]\n",
    "    for idx in temp_data.shape[0]:\n",
    "        img=cv2.imread(temp_data['image'][idx],0)\n",
    "        sample_img.append(img)\n",
    "        \n",
    "        mask=cv2.imread(temp_data['mask'][idx],0)\n",
    "        sample_mask.append(mask)\n",
    "    \n",
    "    img_datay=np.array(sample_mask).astype(int)\n",
    "    img_datax = np.array(sample_img)\n",
    "    \n",
    "    for idx in range(img_datax.shape[0]):\n",
    "        if img_datay[idx].sum()==0:\n",
    "            continue\n",
    "        results = texture_extractor.execute(GetImageFromArray(img_datax[idx]),\n",
    "                                    GetImageFromArray(img_datay[idx])\n",
    "                                    #GetImageFromArray((img_datay>0).astype(np.uint8))\n",
    "                            )\n",
    "        df1 = pd.DataFrame([results]).T\n",
    "        radiomics_all=pd.concat([radiomics_all, df1], axis=1)\n",
    "    image_list.extend(temp_data['image'].tolist())\n",
    "\n",
    "radiomics_all.columns=image_list\n",
    "radiomics_all=radiomics_all.T\n",
    "radiomics_all['filename'] = radiomics_all.index"
   ]
  },
  {
   "cell_type": "code",
   "execution_count": null,
   "metadata": {},
   "outputs": [],
   "source": [
    "### merge radiomics feature with clinical feature\n",
    "df_clinic = pd.read_csv(clinical_path)\n",
    "df_merge = df_clinic.merge(radiomics_all,on ='filename',how='inner')\n",
    "df_merge['basename'] = df_merge['filename'].str.split('/').str[-2]"
   ]
  }
 ],
 "metadata": {
  "kernelspec": {
   "display_name": "Python 3.8.10 ('venv': venv)",
   "language": "python",
   "name": "python3"
  },
  "language_info": {
   "codemirror_mode": {
    "name": "ipython",
    "version": 3
   },
   "file_extension": ".py",
   "mimetype": "text/x-python",
   "name": "python",
   "nbconvert_exporter": "python",
   "pygments_lexer": "ipython3",
   "version": "3.8.10"
  },
  "vscode": {
   "interpreter": {
    "hash": "70862b2a35782cf03f229e4805e6826ca21bf4d4920a510b87654639dd617db4"
   }
  }
 },
 "nbformat": 4,
 "nbformat_minor": 4
}
